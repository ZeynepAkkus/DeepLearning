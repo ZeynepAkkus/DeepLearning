{
  "nbformat": 4,
  "nbformat_minor": 0,
  "metadata": {
    "kernelspec": {
      "display_name": "Python 3",
      "language": "python",
      "name": "python3"
    },
    "language_info": {
      "codemirror_mode": {
        "name": "ipython",
        "version": 3
      },
      "file_extension": ".py",
      "mimetype": "text/x-python",
      "name": "python",
      "nbconvert_exporter": "python",
      "pygments_lexer": "ipython3",
      "version": "3.7.6"
    },
    "colab": {
      "name": "DL_Assignmet_3_(RNN_Time_Series_Frozen_Dessert_Production)_Student.ipynb",
      "provenance": []
    }
  },
  "cells": [
    {
      "cell_type": "markdown",
      "metadata": {
        "id": "PrH59S4kW0UC"
      },
      "source": [
        "# Product Amount Forecast by Time"
      ]
    },
    {
      "cell_type": "markdown",
      "metadata": {
        "id": "VmTfi-sqW0UK"
      },
      "source": [
        "## Data\n",
        "\n",
        "Info about this data set: https://fred.stlouisfed.org/series/IPN31152N\n",
        "\n",
        "\n",
        "Units:  Index 2012=100, Not Seasonally Adjusted\n",
        "\n",
        "Frequency:  Monthly\n",
        "\n",
        "The industrial production (IP) index measures the real output of all relevant establishments located in the United States, regardless of their ownership, but not those located in U.S. territories.\n",
        "\n",
        "NAICS = 31152\n",
        "\n",
        "Source Code: IP.N31152.N\n",
        "\n",
        "Suggested Citation:\n",
        "Board of Governors of the Federal Reserve System (US), Industrial Production: Nondurable Goods: Ice cream and frozen dessert [IPN31152N], retrieved from FRED, Federal Reserve Bank of St. Louis; https://fred.stlouisfed.org/series/IPN31152N, November 16, 2019."
      ]
    },
    {
      "cell_type": "markdown",
      "metadata": {
        "id": "JgbAMYoeW0UM"
      },
      "source": [
        "## Import Libraries"
      ]
    },
    {
      "cell_type": "code",
      "metadata": {
        "id": "iALmCpKJW0UN"
      },
      "source": [
        "import numpy as np\n",
        "import pandas as pd\n",
        "import matplotlib.pyplot as plt\n",
        "import seaborn as sns\n",
        "\n",
        "import warnings\n",
        "warnings.filterwarnings(\"ignore\")\n",
        "warnings.warn(\"this will not show\")\n",
        "\n",
        "plt.rcParams[\"figure.figsize\"] = (10,6)\n",
        "\n",
        "sns.set_style(\"whitegrid\")\n",
        "pd.set_option('display.float_format', lambda x: '%.3f' % x)\n",
        "\n",
        "# Set it None to display all rows in the dataframe\n",
        "# pd.set_option('display.max_rows', None)\n",
        "\n",
        "# Set it to None to display all columns in the dataframe\n",
        "pd.set_option('display.max_columns', None)"
      ],
      "execution_count": 1,
      "outputs": []
    },
    {
      "cell_type": "markdown",
      "metadata": {
        "id": "w5nV2oy4W0UP"
      },
      "source": [
        "## Indest Data"
      ]
    },
    {
      "cell_type": "code",
      "metadata": {
        "id": "m0PzGfw-W0UP"
      },
      "source": [
        "df = pd.read_csv('Frozen_Dessert_Production.csv',\n",
        "                 index_col='DATE',\n",
        "                 parse_dates=True\n",
        "                )"
      ],
      "execution_count": 4,
      "outputs": []
    },
    {
      "cell_type": "markdown",
      "metadata": {
        "id": "r1DNqwCLW0UQ"
      },
      "source": [
        "## Exploratory Data Analysis and Visualization"
      ]
    },
    {
      "cell_type": "markdown",
      "metadata": {
        "id": "D_O-lYffW0UR"
      },
      "source": [
        "1. Implement basic steps to see how is your data looks like\n",
        "2. Change the column name as \"Production\"\n",
        "2. Plot your data and see its seasonalty"
      ]
    },
    {
      "cell_type": "code",
      "metadata": {
        "id": "bYARJqkAW0US",
        "colab": {
          "base_uri": "https://localhost:8080/",
          "height": 238
        },
        "outputId": "14b3f7e3-32e0-494b-8875-bd82edee30ff"
      },
      "source": [
        "df.head()"
      ],
      "execution_count": 5,
      "outputs": [
        {
          "output_type": "execute_result",
          "data": {
            "text/plain": [
              "            IPN31152N\n",
              "DATE                 \n",
              "1972-01-01     59.962\n",
              "1972-02-01     67.061\n",
              "1972-03-01     74.235\n",
              "1972-04-01     78.112\n",
              "1972-05-01     84.764"
            ],
            "text/html": [
              "\n",
              "  <div id=\"df-816dac2b-f6e7-4e92-815a-931d0be8f7ae\">\n",
              "    <div class=\"colab-df-container\">\n",
              "      <div>\n",
              "<style scoped>\n",
              "    .dataframe tbody tr th:only-of-type {\n",
              "        vertical-align: middle;\n",
              "    }\n",
              "\n",
              "    .dataframe tbody tr th {\n",
              "        vertical-align: top;\n",
              "    }\n",
              "\n",
              "    .dataframe thead th {\n",
              "        text-align: right;\n",
              "    }\n",
              "</style>\n",
              "<table border=\"1\" class=\"dataframe\">\n",
              "  <thead>\n",
              "    <tr style=\"text-align: right;\">\n",
              "      <th></th>\n",
              "      <th>IPN31152N</th>\n",
              "    </tr>\n",
              "    <tr>\n",
              "      <th>DATE</th>\n",
              "      <th></th>\n",
              "    </tr>\n",
              "  </thead>\n",
              "  <tbody>\n",
              "    <tr>\n",
              "      <th>1972-01-01</th>\n",
              "      <td>59.962</td>\n",
              "    </tr>\n",
              "    <tr>\n",
              "      <th>1972-02-01</th>\n",
              "      <td>67.061</td>\n",
              "    </tr>\n",
              "    <tr>\n",
              "      <th>1972-03-01</th>\n",
              "      <td>74.235</td>\n",
              "    </tr>\n",
              "    <tr>\n",
              "      <th>1972-04-01</th>\n",
              "      <td>78.112</td>\n",
              "    </tr>\n",
              "    <tr>\n",
              "      <th>1972-05-01</th>\n",
              "      <td>84.764</td>\n",
              "    </tr>\n",
              "  </tbody>\n",
              "</table>\n",
              "</div>\n",
              "      <button class=\"colab-df-convert\" onclick=\"convertToInteractive('df-816dac2b-f6e7-4e92-815a-931d0be8f7ae')\"\n",
              "              title=\"Convert this dataframe to an interactive table.\"\n",
              "              style=\"display:none;\">\n",
              "        \n",
              "  <svg xmlns=\"http://www.w3.org/2000/svg\" height=\"24px\"viewBox=\"0 0 24 24\"\n",
              "       width=\"24px\">\n",
              "    <path d=\"M0 0h24v24H0V0z\" fill=\"none\"/>\n",
              "    <path d=\"M18.56 5.44l.94 2.06.94-2.06 2.06-.94-2.06-.94-.94-2.06-.94 2.06-2.06.94zm-11 1L8.5 8.5l.94-2.06 2.06-.94-2.06-.94L8.5 2.5l-.94 2.06-2.06.94zm10 10l.94 2.06.94-2.06 2.06-.94-2.06-.94-.94-2.06-.94 2.06-2.06.94z\"/><path d=\"M17.41 7.96l-1.37-1.37c-.4-.4-.92-.59-1.43-.59-.52 0-1.04.2-1.43.59L10.3 9.45l-7.72 7.72c-.78.78-.78 2.05 0 2.83L4 21.41c.39.39.9.59 1.41.59.51 0 1.02-.2 1.41-.59l7.78-7.78 2.81-2.81c.8-.78.8-2.07 0-2.86zM5.41 20L4 18.59l7.72-7.72 1.47 1.35L5.41 20z\"/>\n",
              "  </svg>\n",
              "      </button>\n",
              "      \n",
              "  <style>\n",
              "    .colab-df-container {\n",
              "      display:flex;\n",
              "      flex-wrap:wrap;\n",
              "      gap: 12px;\n",
              "    }\n",
              "\n",
              "    .colab-df-convert {\n",
              "      background-color: #E8F0FE;\n",
              "      border: none;\n",
              "      border-radius: 50%;\n",
              "      cursor: pointer;\n",
              "      display: none;\n",
              "      fill: #1967D2;\n",
              "      height: 32px;\n",
              "      padding: 0 0 0 0;\n",
              "      width: 32px;\n",
              "    }\n",
              "\n",
              "    .colab-df-convert:hover {\n",
              "      background-color: #E2EBFA;\n",
              "      box-shadow: 0px 1px 2px rgba(60, 64, 67, 0.3), 0px 1px 3px 1px rgba(60, 64, 67, 0.15);\n",
              "      fill: #174EA6;\n",
              "    }\n",
              "\n",
              "    [theme=dark] .colab-df-convert {\n",
              "      background-color: #3B4455;\n",
              "      fill: #D2E3FC;\n",
              "    }\n",
              "\n",
              "    [theme=dark] .colab-df-convert:hover {\n",
              "      background-color: #434B5C;\n",
              "      box-shadow: 0px 1px 3px 1px rgba(0, 0, 0, 0.15);\n",
              "      filter: drop-shadow(0px 1px 2px rgba(0, 0, 0, 0.3));\n",
              "      fill: #FFFFFF;\n",
              "    }\n",
              "  </style>\n",
              "\n",
              "      <script>\n",
              "        const buttonEl =\n",
              "          document.querySelector('#df-816dac2b-f6e7-4e92-815a-931d0be8f7ae button.colab-df-convert');\n",
              "        buttonEl.style.display =\n",
              "          google.colab.kernel.accessAllowed ? 'block' : 'none';\n",
              "\n",
              "        async function convertToInteractive(key) {\n",
              "          const element = document.querySelector('#df-816dac2b-f6e7-4e92-815a-931d0be8f7ae');\n",
              "          const dataTable =\n",
              "            await google.colab.kernel.invokeFunction('convertToInteractive',\n",
              "                                                     [key], {});\n",
              "          if (!dataTable) return;\n",
              "\n",
              "          const docLinkHtml = 'Like what you see? Visit the ' +\n",
              "            '<a target=\"_blank\" href=https://colab.research.google.com/notebooks/data_table.ipynb>data table notebook</a>'\n",
              "            + ' to learn more about interactive tables.';\n",
              "          element.innerHTML = '';\n",
              "          dataTable['output_type'] = 'display_data';\n",
              "          await google.colab.output.renderOutput(dataTable, element);\n",
              "          const docLink = document.createElement('div');\n",
              "          docLink.innerHTML = docLinkHtml;\n",
              "          element.appendChild(docLink);\n",
              "        }\n",
              "      </script>\n",
              "    </div>\n",
              "  </div>\n",
              "  "
            ]
          },
          "metadata": {},
          "execution_count": 5
        }
      ]
    },
    {
      "cell_type": "code",
      "source": [
        "df.info()"
      ],
      "metadata": {
        "colab": {
          "base_uri": "https://localhost:8080/"
        },
        "id": "F-2QRfFB2ygi",
        "outputId": "fd4322e6-fde8-4871-f44f-4d562a9e692b"
      },
      "execution_count": 6,
      "outputs": [
        {
          "output_type": "stream",
          "name": "stdout",
          "text": [
            "<class 'pandas.core.frame.DataFrame'>\n",
            "DatetimeIndex: 573 entries, 1972-01-01 to 2019-09-01\n",
            "Data columns (total 1 columns):\n",
            " #   Column     Non-Null Count  Dtype  \n",
            "---  ------     --------------  -----  \n",
            " 0   IPN31152N  573 non-null    float64\n",
            "dtypes: float64(1)\n",
            "memory usage: 9.0 KB\n"
          ]
        }
      ]
    },
    {
      "cell_type": "code",
      "source": [
        "df.columns = [\"Production\"]"
      ],
      "metadata": {
        "id": "n0uWCCbs2yYY"
      },
      "execution_count": 8,
      "outputs": []
    },
    {
      "cell_type": "code",
      "source": [
        "df.head()"
      ],
      "metadata": {
        "colab": {
          "base_uri": "https://localhost:8080/",
          "height": 238
        },
        "id": "G9Aj70iT2yP4",
        "outputId": "b992fb9d-37db-4f2c-f25e-1df32bcc2b3f"
      },
      "execution_count": 9,
      "outputs": [
        {
          "output_type": "execute_result",
          "data": {
            "text/plain": [
              "            Production\n",
              "DATE                  \n",
              "1972-01-01      59.962\n",
              "1972-02-01      67.061\n",
              "1972-03-01      74.235\n",
              "1972-04-01      78.112\n",
              "1972-05-01      84.764"
            ],
            "text/html": [
              "\n",
              "  <div id=\"df-7604e14b-5fc5-4d3a-baa9-bddc72797a89\">\n",
              "    <div class=\"colab-df-container\">\n",
              "      <div>\n",
              "<style scoped>\n",
              "    .dataframe tbody tr th:only-of-type {\n",
              "        vertical-align: middle;\n",
              "    }\n",
              "\n",
              "    .dataframe tbody tr th {\n",
              "        vertical-align: top;\n",
              "    }\n",
              "\n",
              "    .dataframe thead th {\n",
              "        text-align: right;\n",
              "    }\n",
              "</style>\n",
              "<table border=\"1\" class=\"dataframe\">\n",
              "  <thead>\n",
              "    <tr style=\"text-align: right;\">\n",
              "      <th></th>\n",
              "      <th>Production</th>\n",
              "    </tr>\n",
              "    <tr>\n",
              "      <th>DATE</th>\n",
              "      <th></th>\n",
              "    </tr>\n",
              "  </thead>\n",
              "  <tbody>\n",
              "    <tr>\n",
              "      <th>1972-01-01</th>\n",
              "      <td>59.962</td>\n",
              "    </tr>\n",
              "    <tr>\n",
              "      <th>1972-02-01</th>\n",
              "      <td>67.061</td>\n",
              "    </tr>\n",
              "    <tr>\n",
              "      <th>1972-03-01</th>\n",
              "      <td>74.235</td>\n",
              "    </tr>\n",
              "    <tr>\n",
              "      <th>1972-04-01</th>\n",
              "      <td>78.112</td>\n",
              "    </tr>\n",
              "    <tr>\n",
              "      <th>1972-05-01</th>\n",
              "      <td>84.764</td>\n",
              "    </tr>\n",
              "  </tbody>\n",
              "</table>\n",
              "</div>\n",
              "      <button class=\"colab-df-convert\" onclick=\"convertToInteractive('df-7604e14b-5fc5-4d3a-baa9-bddc72797a89')\"\n",
              "              title=\"Convert this dataframe to an interactive table.\"\n",
              "              style=\"display:none;\">\n",
              "        \n",
              "  <svg xmlns=\"http://www.w3.org/2000/svg\" height=\"24px\"viewBox=\"0 0 24 24\"\n",
              "       width=\"24px\">\n",
              "    <path d=\"M0 0h24v24H0V0z\" fill=\"none\"/>\n",
              "    <path d=\"M18.56 5.44l.94 2.06.94-2.06 2.06-.94-2.06-.94-.94-2.06-.94 2.06-2.06.94zm-11 1L8.5 8.5l.94-2.06 2.06-.94-2.06-.94L8.5 2.5l-.94 2.06-2.06.94zm10 10l.94 2.06.94-2.06 2.06-.94-2.06-.94-.94-2.06-.94 2.06-2.06.94z\"/><path d=\"M17.41 7.96l-1.37-1.37c-.4-.4-.92-.59-1.43-.59-.52 0-1.04.2-1.43.59L10.3 9.45l-7.72 7.72c-.78.78-.78 2.05 0 2.83L4 21.41c.39.39.9.59 1.41.59.51 0 1.02-.2 1.41-.59l7.78-7.78 2.81-2.81c.8-.78.8-2.07 0-2.86zM5.41 20L4 18.59l7.72-7.72 1.47 1.35L5.41 20z\"/>\n",
              "  </svg>\n",
              "      </button>\n",
              "      \n",
              "  <style>\n",
              "    .colab-df-container {\n",
              "      display:flex;\n",
              "      flex-wrap:wrap;\n",
              "      gap: 12px;\n",
              "    }\n",
              "\n",
              "    .colab-df-convert {\n",
              "      background-color: #E8F0FE;\n",
              "      border: none;\n",
              "      border-radius: 50%;\n",
              "      cursor: pointer;\n",
              "      display: none;\n",
              "      fill: #1967D2;\n",
              "      height: 32px;\n",
              "      padding: 0 0 0 0;\n",
              "      width: 32px;\n",
              "    }\n",
              "\n",
              "    .colab-df-convert:hover {\n",
              "      background-color: #E2EBFA;\n",
              "      box-shadow: 0px 1px 2px rgba(60, 64, 67, 0.3), 0px 1px 3px 1px rgba(60, 64, 67, 0.15);\n",
              "      fill: #174EA6;\n",
              "    }\n",
              "\n",
              "    [theme=dark] .colab-df-convert {\n",
              "      background-color: #3B4455;\n",
              "      fill: #D2E3FC;\n",
              "    }\n",
              "\n",
              "    [theme=dark] .colab-df-convert:hover {\n",
              "      background-color: #434B5C;\n",
              "      box-shadow: 0px 1px 3px 1px rgba(0, 0, 0, 0.15);\n",
              "      filter: drop-shadow(0px 1px 2px rgba(0, 0, 0, 0.3));\n",
              "      fill: #FFFFFF;\n",
              "    }\n",
              "  </style>\n",
              "\n",
              "      <script>\n",
              "        const buttonEl =\n",
              "          document.querySelector('#df-7604e14b-5fc5-4d3a-baa9-bddc72797a89 button.colab-df-convert');\n",
              "        buttonEl.style.display =\n",
              "          google.colab.kernel.accessAllowed ? 'block' : 'none';\n",
              "\n",
              "        async function convertToInteractive(key) {\n",
              "          const element = document.querySelector('#df-7604e14b-5fc5-4d3a-baa9-bddc72797a89');\n",
              "          const dataTable =\n",
              "            await google.colab.kernel.invokeFunction('convertToInteractive',\n",
              "                                                     [key], {});\n",
              "          if (!dataTable) return;\n",
              "\n",
              "          const docLinkHtml = 'Like what you see? Visit the ' +\n",
              "            '<a target=\"_blank\" href=https://colab.research.google.com/notebooks/data_table.ipynb>data table notebook</a>'\n",
              "            + ' to learn more about interactive tables.';\n",
              "          element.innerHTML = '';\n",
              "          dataTable['output_type'] = 'display_data';\n",
              "          await google.colab.output.renderOutput(dataTable, element);\n",
              "          const docLink = document.createElement('div');\n",
              "          docLink.innerHTML = docLinkHtml;\n",
              "          element.appendChild(docLink);\n",
              "        }\n",
              "      </script>\n",
              "    </div>\n",
              "  </div>\n",
              "  "
            ]
          },
          "metadata": {},
          "execution_count": 9
        }
      ]
    },
    {
      "cell_type": "code",
      "source": [
        "df.plot(figsize=(16,8))"
      ],
      "metadata": {
        "colab": {
          "base_uri": "https://localhost:8080/",
          "height": 514
        },
        "id": "eLtZCj8k3E03",
        "outputId": "ba3e29a6-dbbc-4292-d6e7-3154617796e3"
      },
      "execution_count": 10,
      "outputs": [
        {
          "output_type": "execute_result",
          "data": {
            "text/plain": [
              "<matplotlib.axes._subplots.AxesSubplot at 0x7fc623af01d0>"
            ]
          },
          "metadata": {},
          "execution_count": 10
        },
        {
          "output_type": "display_data",
          "data": {
            "text/plain": [
              "<Figure size 1152x576 with 1 Axes>"
            ],
            "image/png": "[encoded data removed]"
          },
          "metadata": {
            "needs_background": "light"
          }
        }
      ]
    },
    {
      "cell_type": "markdown",
      "metadata": {
        "id": "MFgtEy1_W0UT"
      },
      "source": [
        "## Preprocessing of Data"
      ]
    },
    {
      "cell_type": "markdown",
      "metadata": {
        "id": "ZHTMB-NaW0UU"
      },
      "source": [
        "### Train Test Split"
      ]
    },
    {
      "cell_type": "code",
      "metadata": {
        "id": "Zj1tmZDUW0UW"
      },
      "source": [
        "test_size = 24"
      ],
      "execution_count": 11,
      "outputs": []
    },
    {
      "cell_type": "code",
      "source": [
        "test_ind = len(df)- test_size"
      ],
      "metadata": {
        "id": "XmOksq0s3KTW"
      },
      "execution_count": 12,
      "outputs": []
    },
    {
      "cell_type": "code",
      "source": [
        "train = df.iloc[:test_ind]\n",
        "test = df.iloc[test_ind:]"
      ],
      "metadata": {
        "id": "SDYBOFGF3KKQ"
      },
      "execution_count": 13,
      "outputs": []
    },
    {
      "cell_type": "markdown",
      "metadata": {
        "id": "OhtBFsG_W0UW"
      },
      "source": [
        "### Scaling"
      ]
    },
    {
      "cell_type": "code",
      "metadata": {
        "id": "xUXr6jEwW0UX"
      },
      "source": [
        "from sklearn.preprocessing import MinMaxScaler"
      ],
      "execution_count": 14,
      "outputs": []
    },
    {
      "cell_type": "code",
      "source": [
        "scaler = MinMaxScaler()"
      ],
      "metadata": {
        "id": "X_XRDnZ73RDw"
      },
      "execution_count": 15,
      "outputs": []
    },
    {
      "cell_type": "code",
      "source": [
        "train_scaled = scaler.fit_transform(train)\n",
        "test_scaled = scaler.transform(test)"
      ],
      "metadata": {
        "id": "ZFbERTQX3Q72"
      },
      "execution_count": 16,
      "outputs": []
    },
    {
      "cell_type": "markdown",
      "metadata": {
        "id": "mEr60eqqW0UX"
      },
      "source": [
        "## Time Series Generator"
      ]
    },
    {
      "cell_type": "code",
      "metadata": {
        "id": "W7m1f77QW0UY"
      },
      "source": [
        "from tensorflow.keras.preprocessing.sequence import TimeseriesGenerator"
      ],
      "execution_count": 17,
      "outputs": []
    },
    {
      "cell_type": "code",
      "source": [
        "length = 12\n",
        "batch_size = 1\n",
        "generator = TimeseriesGenerator(train_scaled, train_scaled, length = length, batch_size = batch_size)\n",
        "validation_generator = TimeseriesGenerator(test_scaled, test_scaled, length = length, batch_size = batch_size)"
      ],
      "metadata": {
        "id": "6guVhKJo3WIh"
      },
      "execution_count": 18,
      "outputs": []
    },
    {
      "cell_type": "code",
      "source": [
        "X, y = generator[0]"
      ],
      "metadata": {
        "id": "bT9EOQRY3WAi"
      },
      "execution_count": 19,
      "outputs": []
    },
    {
      "cell_type": "code",
      "source": [
        "print(f'Given the Array: \\n{X.flatten()}')\n",
        "print(f'Predict this y: \\n {y}')"
      ],
      "metadata": {
        "colab": {
          "base_uri": "https://localhost:8080/"
        },
        "id": "0VfjnGu73bUv",
        "outputId": "d5107148-3c13-4a0a-ceb9-8bb490bdc2f0"
      },
      "execution_count": 20,
      "outputs": [
        {
          "output_type": "stream",
          "name": "stdout",
          "text": [
            "Given the Array: \n",
            "[0.00947104 0.06108982 0.11326273 0.14145625 0.18982663 0.30495972\n",
            " 0.30154406 0.27416065 0.19736841 0.08532665 0.01561588 0.        ]\n",
            "Predict this y: \n",
            " [[0.01774221]]\n"
          ]
        }
      ]
    },
    {
      "cell_type": "code",
      "source": [
        ""
      ],
      "metadata": {
        "id": "26G5iDMK3lB-"
      },
      "execution_count": null,
      "outputs": []
    },
    {
      "cell_type": "markdown",
      "metadata": {
        "id": "GXs_mchzW0UY"
      },
      "source": [
        "## Modelling & Model Performance"
      ]
    },
    {
      "cell_type": "markdown",
      "metadata": {
        "id": "_nPVqM5JW0UY"
      },
      "source": [
        "### Import related libraries"
      ]
    },
    {
      "cell_type": "code",
      "source": [
        "from tensorflow.keras.models import Sequential\n",
        "from tensorflow.keras.layers import Dense, LSTM\n",
        "from tensorflow.keras.callbacks import EarlyStopping"
      ],
      "metadata": {
        "id": "7GT6hOH23iUY"
      },
      "execution_count": 21,
      "outputs": []
    },
    {
      "cell_type": "code",
      "source": [
        "n_features = train_scaled.shape[1]"
      ],
      "metadata": {
        "id": "-HMDOaIe3n63"
      },
      "execution_count": 22,
      "outputs": []
    },
    {
      "cell_type": "code",
      "metadata": {
        "id": "H0LrCgXjW0UZ"
      },
      "source": [
        ""
      ],
      "execution_count": null,
      "outputs": []
    },
    {
      "cell_type": "markdown",
      "metadata": {
        "id": "siUy9HKDW0UZ"
      },
      "source": [
        "### Creating Model"
      ]
    },
    {
      "cell_type": "markdown",
      "metadata": {
        "id": "MkaQEz-tW0Ua"
      },
      "source": [
        "### with \"tanh\" activation function"
      ]
    },
    {
      "cell_type": "code",
      "metadata": {
        "id": "AxESUUeiW0Ua"
      },
      "source": [
        "model = Sequential()\n",
        "model.add(LSTM(64, activation = 'tanh', return_sequences=True, input_shape = (length, n_features)))\n",
        "model.add(LSTM(32, activation = 'tanh', return_sequences=True))\n",
        "model.add(LSTM(16, activation = 'tanh'))\n",
        "model.add(Dense(1))\n",
        "model.compile(optimizer = 'adam', loss = 'mse')"
      ],
      "execution_count": 23,
      "outputs": []
    },
    {
      "cell_type": "code",
      "source": [
        "model.summary()"
      ],
      "metadata": {
        "colab": {
          "base_uri": "https://localhost:8080/"
        },
        "id": "i3lRe4_Y303V",
        "outputId": "26fae285-e2d1-4799-b55a-22ca50ee5fbb"
      },
      "execution_count": 24,
      "outputs": [
        {
          "output_type": "stream",
          "name": "stdout",
          "text": [
            "Model: \"sequential\"\n",
            "_________________________________________________________________\n",
            " Layer (type)                Output Shape              Param #   \n",
            "=================================================================\n",
            " lstm (LSTM)                 (None, 12, 64)            16896     \n",
            "                                                                 \n",
            " lstm_1 (LSTM)               (None, 12, 32)            12416     \n",
            "                                                                 \n",
            " lstm_2 (LSTM)               (None, 16)                3136      \n",
            "                                                                 \n",
            " dense (Dense)               (None, 1)                 17        \n",
            "                                                                 \n",
            "=================================================================\n",
            "Total params: 32,465\n",
            "Trainable params: 32,465\n",
            "Non-trainable params: 0\n",
            "_________________________________________________________________\n"
          ]
        }
      ]
    },
    {
      "cell_type": "code",
      "source": [
        "early_stop = EarlyStopping(monitor = 'val_loss', patience = 5, restore_best_weights = True)"
      ],
      "metadata": {
        "id": "6GVHru3m30oq"
      },
      "execution_count": 25,
      "outputs": []
    },
    {
      "cell_type": "code",
      "source": [
        "model.fit_generator(generator,\n",
        "                    epochs = 20,\n",
        "                    validation_data = validation_generator,\n",
        "                    callbacks = [early_stop])"
      ],
      "metadata": {
        "colab": {
          "base_uri": "https://localhost:8080/"
        },
        "id": "xyMGCGR8366P",
        "outputId": "87e29165-cbb7-49ed-86d4-3e2139d9b894"
      },
      "execution_count": 26,
      "outputs": [
        {
          "output_type": "stream",
          "name": "stdout",
          "text": [
            "Epoch 1/20\n",
            "537/537 [==============================] - 15s 17ms/step - loss: 0.0269 - val_loss: 0.0050\n",
            "Epoch 2/20\n",
            "537/537 [==============================] - 8s 15ms/step - loss: 0.0139 - val_loss: 0.0027\n",
            "Epoch 3/20\n",
            "537/537 [==============================] - 8s 14ms/step - loss: 0.0078 - val_loss: 0.0071\n",
            "Epoch 4/20\n",
            "537/537 [==============================] - 8s 15ms/step - loss: 0.0062 - val_loss: 0.0016\n",
            "Epoch 5/20\n",
            "537/537 [==============================] - 8s 14ms/step - loss: 0.0053 - val_loss: 0.0026\n",
            "Epoch 6/20\n",
            "537/537 [==============================] - 8s 14ms/step - loss: 0.0052 - val_loss: 0.0050\n",
            "Epoch 7/20\n",
            "537/537 [==============================] - 8s 14ms/step - loss: 0.0049 - val_loss: 0.0047\n",
            "Epoch 8/20\n",
            "537/537 [==============================] - 8s 14ms/step - loss: 0.0056 - val_loss: 0.0058\n",
            "Epoch 9/20\n",
            "537/537 [==============================] - 8s 15ms/step - loss: 0.0045 - val_loss: 0.0055\n"
          ]
        },
        {
          "output_type": "execute_result",
          "data": {
            "text/plain": [
              "<keras.callbacks.History at 0x7fc5b7f62c10>"
            ]
          },
          "metadata": {},
          "execution_count": 26
        }
      ]
    },
    {
      "cell_type": "code",
      "source": [
        "loss_df = pd.DataFrame(model.history.history)\n",
        "loss_df.plot()"
      ],
      "metadata": {
        "colab": {
          "base_uri": "https://localhost:8080/",
          "height": 282
        },
        "id": "AM_6skK_5TLu",
        "outputId": "b2b995e9-375b-451b-b940-5c6dc0317d56"
      },
      "execution_count": 27,
      "outputs": [
        {
          "output_type": "execute_result",
          "data": {
            "text/plain": [
              "<matplotlib.axes._subplots.AxesSubplot at 0x7fc5b3bc8d10>"
            ]
          },
          "metadata": {},
          "execution_count": 27
        },
        {
          "output_type": "display_data",
          "data": {
            "text/plain": [
              "<Figure size 432x288 with 1 Axes>"
            ],
            "image/png": "[encoded data removed]"
          },
          "metadata": {
            "needs_background": "light"
          }
        }
      ]
    },
    {
      "cell_type": "markdown",
      "metadata": {
        "id": "oa_VzNmpW0Ua"
      },
      "source": [
        "#### Evaluate on Test Data"
      ]
    },
    {
      "cell_type": "code",
      "metadata": {
        "id": "Bhvrnix7W0Ub"
      },
      "source": [
        "from sklearn.metrics import mean_absolute_error, mean_squared_error, r2_score"
      ],
      "execution_count": 28,
      "outputs": []
    },
    {
      "cell_type": "code",
      "source": [
        "def eval_metrics(actual, pred):\n",
        "    rmse = np.sqrt(mean_squared_error(actual, pred))\n",
        "    mae = mean_absolute_error(actual, pred)\n",
        "    mse = mean_squared_error(actual, pred)\n",
        "    score = r2_score(actual, pred)\n",
        "    return print(\"r2_score:\", score, \"\\nmae:\", mae, \"\\nmse:\",mse, \"\\nrmse:\",rmse)"
      ],
      "metadata": {
        "id": "_eOFVWQK5Zja"
      },
      "execution_count": 29,
      "outputs": []
    },
    {
      "cell_type": "code",
      "source": [
        "predictions_scaled = []\n",
        "\n",
        "first_eval_batch = train_scaled[-length:]\n",
        "current_batch = first_eval_batch.reshape((1, length, n_features))\n",
        "\n",
        "for i in range(length):\n",
        "    \n",
        "    # get prediction 1 time stamp ahead\n",
        "    current_pred = model.predict(current_batch)\n",
        "    \n",
        "    # store prediction\n",
        "    predictions_scaled.append(current_pred[0]) \n",
        "    \n",
        "    # update batch to now include prediction and drop first value\n",
        "    current_batch = np.append(current_batch[:, 1:, :], [current_pred], axis=1)"
      ],
      "metadata": {
        "id": "_P7d4Fk55ZZG"
      },
      "execution_count": 30,
      "outputs": []
    },
    {
      "cell_type": "code",
      "source": [
        ""
      ],
      "metadata": {
        "id": "qn8zrIkZ5ZDV"
      },
      "execution_count": null,
      "outputs": []
    },
    {
      "cell_type": "markdown",
      "metadata": {
        "id": "uiuwaoCZW0Ub"
      },
      "source": [
        "#### Inverse Transformations and Comparing"
      ]
    },
    {
      "cell_type": "code",
      "metadata": {
        "id": "jCKSgQrxW0Uc"
      },
      "source": [
        "predictions = scaler.inverse_transform(predictions_scaled)"
      ],
      "execution_count": 31,
      "outputs": []
    },
    {
      "cell_type": "code",
      "source": [
        "compare = test[:12]\n",
        "compare['Predictions_tanh'] = predictions\n",
        "compare"
      ],
      "metadata": {
        "colab": {
          "base_uri": "https://localhost:8080/",
          "height": 457
        },
        "id": "Te8BhV6h5frS",
        "outputId": "457aa6b4-5fad-45be-8774-165c35227333"
      },
      "execution_count": 32,
      "outputs": [
        {
          "output_type": "execute_result",
          "data": {
            "text/plain": [
              "            Production  Predictions_tanh\n",
              "DATE                                    \n",
              "2017-10-01      90.473            95.543\n",
              "2017-11-01      77.438            89.196\n",
              "2017-12-01      75.812            92.719\n",
              "2018-01-01      83.434           103.578\n",
              "2018-02-01      99.490           113.160\n",
              "2018-03-01     107.315           117.702\n",
              "2018-04-01     112.431           120.283\n",
              "2018-05-01     110.354           120.826\n",
              "2018-06-01     124.584           122.340\n",
              "2018-07-01     117.222           116.802\n",
              "2018-08-01     112.678           109.419\n",
              "2018-09-01     103.312            99.534"
            ],
            "text/html": [
              "\n",
              "  <div id=\"df-f8842c0e-19fb-43a9-bea8-ce812f5fcbcc\">\n",
              "    <div class=\"colab-df-container\">\n",
              "      <div>\n",
              "<style scoped>\n",
              "    .dataframe tbody tr th:only-of-type {\n",
              "        vertical-align: middle;\n",
              "    }\n",
              "\n",
              "    .dataframe tbody tr th {\n",
              "        vertical-align: top;\n",
              "    }\n",
              "\n",
              "    .dataframe thead th {\n",
              "        text-align: right;\n",
              "    }\n",
              "</style>\n",
              "<table border=\"1\" class=\"dataframe\">\n",
              "  <thead>\n",
              "    <tr style=\"text-align: right;\">\n",
              "      <th></th>\n",
              "      <th>Production</th>\n",
              "      <th>Predictions_tanh</th>\n",
              "    </tr>\n",
              "    <tr>\n",
              "      <th>DATE</th>\n",
              "      <th></th>\n",
              "      <th></th>\n",
              "    </tr>\n",
              "  </thead>\n",
              "  <tbody>\n",
              "    <tr>\n",
              "      <th>2017-10-01</th>\n",
              "      <td>90.473</td>\n",
              "      <td>95.543</td>\n",
              "    </tr>\n",
              "    <tr>\n",
              "      <th>2017-11-01</th>\n",
              "      <td>77.438</td>\n",
              "      <td>89.196</td>\n",
              "    </tr>\n",
              "    <tr>\n",
              "      <th>2017-12-01</th>\n",
              "      <td>75.812</td>\n",
              "      <td>92.719</td>\n",
              "    </tr>\n",
              "    <tr>\n",
              "      <th>2018-01-01</th>\n",
              "      <td>83.434</td>\n",
              "      <td>103.578</td>\n",
              "    </tr>\n",
              "    <tr>\n",
              "      <th>2018-02-01</th>\n",
              "      <td>99.490</td>\n",
              "      <td>113.160</td>\n",
              "    </tr>\n",
              "    <tr>\n",
              "      <th>2018-03-01</th>\n",
              "      <td>107.315</td>\n",
              "      <td>117.702</td>\n",
              "    </tr>\n",
              "    <tr>\n",
              "      <th>2018-04-01</th>\n",
              "      <td>112.431</td>\n",
              "      <td>120.283</td>\n",
              "    </tr>\n",
              "    <tr>\n",
              "      <th>2018-05-01</th>\n",
              "      <td>110.354</td>\n",
              "      <td>120.826</td>\n",
              "    </tr>\n",
              "    <tr>\n",
              "      <th>2018-06-01</th>\n",
              "      <td>124.584</td>\n",
              "      <td>122.340</td>\n",
              "    </tr>\n",
              "    <tr>\n",
              "      <th>2018-07-01</th>\n",
              "      <td>117.222</td>\n",
              "      <td>116.802</td>\n",
              "    </tr>\n",
              "    <tr>\n",
              "      <th>2018-08-01</th>\n",
              "      <td>112.678</td>\n",
              "      <td>109.419</td>\n",
              "    </tr>\n",
              "    <tr>\n",
              "      <th>2018-09-01</th>\n",
              "      <td>103.312</td>\n",
              "      <td>99.534</td>\n",
              "    </tr>\n",
              "  </tbody>\n",
              "</table>\n",
              "</div>\n",
              "      <button class=\"colab-df-convert\" onclick=\"convertToInteractive('df-f8842c0e-19fb-43a9-bea8-ce812f5fcbcc')\"\n",
              "              title=\"Convert this dataframe to an interactive table.\"\n",
              "              style=\"display:none;\">\n",
              "        \n",
              "  <svg xmlns=\"http://www.w3.org/2000/svg\" height=\"24px\"viewBox=\"0 0 24 24\"\n",
              "       width=\"24px\">\n",
              "    <path d=\"M0 0h24v24H0V0z\" fill=\"none\"/>\n",
              "    <path d=\"M18.56 5.44l.94 2.06.94-2.06 2.06-.94-2.06-.94-.94-2.06-.94 2.06-2.06.94zm-11 1L8.5 8.5l.94-2.06 2.06-.94-2.06-.94L8.5 2.5l-.94 2.06-2.06.94zm10 10l.94 2.06.94-2.06 2.06-.94-2.06-.94-.94-2.06-.94 2.06-2.06.94z\"/><path d=\"M17.41 7.96l-1.37-1.37c-.4-.4-.92-.59-1.43-.59-.52 0-1.04.2-1.43.59L10.3 9.45l-7.72 7.72c-.78.78-.78 2.05 0 2.83L4 21.41c.39.39.9.59 1.41.59.51 0 1.02-.2 1.41-.59l7.78-7.78 2.81-2.81c.8-.78.8-2.07 0-2.86zM5.41 20L4 18.59l7.72-7.72 1.47 1.35L5.41 20z\"/>\n",
              "  </svg>\n",
              "      </button>\n",
              "      \n",
              "  <style>\n",
              "    .colab-df-container {\n",
              "      display:flex;\n",
              "      flex-wrap:wrap;\n",
              "      gap: 12px;\n",
              "    }\n",
              "\n",
              "    .colab-df-convert {\n",
              "      background-color: #E8F0FE;\n",
              "      border: none;\n",
              "      border-radius: 50%;\n",
              "      cursor: pointer;\n",
              "      display: none;\n",
              "      fill: #1967D2;\n",
              "      height: 32px;\n",
              "      padding: 0 0 0 0;\n",
              "      width: 32px;\n",
              "    }\n",
              "\n",
              "    .colab-df-convert:hover {\n",
              "      background-color: #E2EBFA;\n",
              "      box-shadow: 0px 1px 2px rgba(60, 64, 67, 0.3), 0px 1px 3px 1px rgba(60, 64, 67, 0.15);\n",
              "      fill: #174EA6;\n",
              "    }\n",
              "\n",
              "    [theme=dark] .colab-df-convert {\n",
              "      background-color: #3B4455;\n",
              "      fill: #D2E3FC;\n",
              "    }\n",
              "\n",
              "    [theme=dark] .colab-df-convert:hover {\n",
              "      background-color: #434B5C;\n",
              "      box-shadow: 0px 1px 3px 1px rgba(0, 0, 0, 0.15);\n",
              "      filter: drop-shadow(0px 1px 2px rgba(0, 0, 0, 0.3));\n",
              "      fill: #FFFFFF;\n",
              "    }\n",
              "  </style>\n",
              "\n",
              "      <script>\n",
              "        const buttonEl =\n",
              "          document.querySelector('#df-f8842c0e-19fb-43a9-bea8-ce812f5fcbcc button.colab-df-convert');\n",
              "        buttonEl.style.display =\n",
              "          google.colab.kernel.accessAllowed ? 'block' : 'none';\n",
              "\n",
              "        async function convertToInteractive(key) {\n",
              "          const element = document.querySelector('#df-f8842c0e-19fb-43a9-bea8-ce812f5fcbcc');\n",
              "          const dataTable =\n",
              "            await google.colab.kernel.invokeFunction('convertToInteractive',\n",
              "                                                     [key], {});\n",
              "          if (!dataTable) return;\n",
              "\n",
              "          const docLinkHtml = 'Like what you see? Visit the ' +\n",
              "            '<a target=\"_blank\" href=https://colab.research.google.com/notebooks/data_table.ipynb>data table notebook</a>'\n",
              "            + ' to learn more about interactive tables.';\n",
              "          element.innerHTML = '';\n",
              "          dataTable['output_type'] = 'display_data';\n",
              "          await google.colab.output.renderOutput(dataTable, element);\n",
              "          const docLink = document.createElement('div');\n",
              "          docLink.innerHTML = docLinkHtml;\n",
              "          element.appendChild(docLink);\n",
              "        }\n",
              "      </script>\n",
              "    </div>\n",
              "  </div>\n",
              "  "
            ]
          },
          "metadata": {},
          "execution_count": 32
        }
      ]
    },
    {
      "cell_type": "code",
      "source": [
        "compare.plot()"
      ],
      "metadata": {
        "colab": {
          "base_uri": "https://localhost:8080/",
          "height": 308
        },
        "id": "f7-56zkd5nes",
        "outputId": "cbf0b7a1-0530-4e52-c834-25ae6e904b50"
      },
      "execution_count": 33,
      "outputs": [
        {
          "output_type": "execute_result",
          "data": {
            "text/plain": [
              "<matplotlib.axes._subplots.AxesSubplot at 0x7fc5b2ab5250>"
            ]
          },
          "metadata": {},
          "execution_count": 33
        },
        {
          "output_type": "display_data",
          "data": {
            "text/plain": [
              "<Figure size 432x288 with 1 Axes>"
            ],
            "image/png": "[encoded data removed]"
          },
          "metadata": {
            "needs_background": "light"
          }
        }
      ]
    },
    {
      "cell_type": "markdown",
      "metadata": {
        "id": "8LWk7fR2W0Uc"
      },
      "source": [
        "#### Calculation R2 Score and Error Metrics"
      ]
    },
    {
      "cell_type": "code",
      "source": [
        "eval_metrics(compare.Production, compare.Predictions_tanh)"
      ],
      "metadata": {
        "colab": {
          "base_uri": "https://localhost:8080/"
        },
        "id": "wNbghdhY5pBT",
        "outputId": "85d8bfd0-34a4-4e17-9e98-f08f8b39390a"
      },
      "execution_count": 34,
      "outputs": [
        {
          "output_type": "stream",
          "name": "stdout",
          "text": [
            "r2_score: 0.5223264579609903 \n",
            "mae: 8.829966958618785 \n",
            "mse: 112.6453024242138 \n",
            "rmse: 10.613449129487256\n"
          ]
        }
      ]
    },
    {
      "cell_type": "code",
      "metadata": {
        "id": "6NL6kGVpW0Uc"
      },
      "source": [
        ""
      ],
      "execution_count": null,
      "outputs": []
    },
    {
      "cell_type": "markdown",
      "metadata": {
        "id": "AeWZTdyPW0Ud"
      },
      "source": [
        "### with \"relu\" activation function"
      ]
    },
    {
      "cell_type": "code",
      "metadata": {
        "id": "lrlNA3cIW0Ud"
      },
      "source": [
        "model = Sequential()\n",
        "model.add(LSTM(64, activation = 'relu', return_sequences=True, input_shape = (length, n_features)))\n",
        "model.add(LSTM(32, activation = 'relu', return_sequences=True))\n",
        "model.add(LSTM(16, activation = 'relu'))\n",
        "model.add(Dense(1))\n",
        "model.compile(optimizer = 'adam', loss = 'mse')"
      ],
      "execution_count": 35,
      "outputs": []
    },
    {
      "cell_type": "code",
      "source": [
        "model.summary()"
      ],
      "metadata": {
        "colab": {
          "base_uri": "https://localhost:8080/"
        },
        "id": "l6Tj0WVA51Ur",
        "outputId": "64eafdfd-2161-435d-d07b-a61611862b08"
      },
      "execution_count": 36,
      "outputs": [
        {
          "output_type": "stream",
          "name": "stdout",
          "text": [
            "Model: \"sequential_1\"\n",
            "_________________________________________________________________\n",
            " Layer (type)                Output Shape              Param #   \n",
            "=================================================================\n",
            " lstm_3 (LSTM)               (None, 12, 64)            16896     \n",
            "                                                                 \n",
            " lstm_4 (LSTM)               (None, 12, 32)            12416     \n",
            "                                                                 \n",
            " lstm_5 (LSTM)               (None, 16)                3136      \n",
            "                                                                 \n",
            " dense_1 (Dense)             (None, 1)                 17        \n",
            "                                                                 \n",
            "=================================================================\n",
            "Total params: 32,465\n",
            "Trainable params: 32,465\n",
            "Non-trainable params: 0\n",
            "_________________________________________________________________\n"
          ]
        }
      ]
    },
    {
      "cell_type": "code",
      "source": [
        "early_stop = EarlyStopping(monitor = 'val_loss', patience = 5, restore_best_weights = True)"
      ],
      "metadata": {
        "id": "9P_7DpQl54GZ"
      },
      "execution_count": 37,
      "outputs": []
    },
    {
      "cell_type": "code",
      "source": [
        "model.fit_generator(generator,\n",
        "                    epochs = 20,\n",
        "                    validation_data = validation_generator,\n",
        "                    callbacks = [early_stop])"
      ],
      "metadata": {
        "colab": {
          "base_uri": "https://localhost:8080/"
        },
        "id": "kidqaZpN55D9",
        "outputId": "85ba9bad-4a2f-4acf-c757-071c4f635d4f"
      },
      "execution_count": 38,
      "outputs": [
        {
          "output_type": "stream",
          "name": "stdout",
          "text": [
            "Epoch 1/20\n",
            "537/537 [==============================] - 13s 16ms/step - loss: 0.0291 - val_loss: 0.0073\n",
            "Epoch 2/20\n",
            "537/537 [==============================] - 7s 13ms/step - loss: 0.0132 - val_loss: 0.0014\n",
            "Epoch 3/20\n",
            "537/537 [==============================] - 7s 13ms/step - loss: 0.0086 - val_loss: 0.0023\n",
            "Epoch 4/20\n",
            "537/537 [==============================] - 7s 13ms/step - loss: 0.0094 - val_loss: 0.0050\n",
            "Epoch 5/20\n",
            "537/537 [==============================] - 7s 13ms/step - loss: 0.0077 - val_loss: 0.0014\n",
            "Epoch 6/20\n",
            "537/537 [==============================] - 7s 13ms/step - loss: 0.0071 - val_loss: 0.0026\n",
            "Epoch 7/20\n",
            "537/537 [==============================] - 7s 13ms/step - loss: 0.0074 - val_loss: 0.0043\n",
            "Epoch 8/20\n",
            "537/537 [==============================] - 7s 13ms/step - loss: 0.0064 - val_loss: 0.0015\n",
            "Epoch 9/20\n",
            "537/537 [==============================] - 7s 13ms/step - loss: 0.0063 - val_loss: 0.0027\n",
            "Epoch 10/20\n",
            "537/537 [==============================] - 7s 13ms/step - loss: 0.0065 - val_loss: 0.0029\n"
          ]
        },
        {
          "output_type": "execute_result",
          "data": {
            "text/plain": [
              "<keras.callbacks.History at 0x7fc5b2a01610>"
            ]
          },
          "metadata": {},
          "execution_count": 38
        }
      ]
    },
    {
      "cell_type": "code",
      "source": [
        "loss_df = pd.DataFrame(model.history.history)\n",
        "loss_df.plot()"
      ],
      "metadata": {
        "colab": {
          "base_uri": "https://localhost:8080/",
          "height": 283
        },
        "id": "Z1mAryO459NS",
        "outputId": "be780a3e-a22b-4a5b-df7f-86dcc47739fb"
      },
      "execution_count": 39,
      "outputs": [
        {
          "output_type": "execute_result",
          "data": {
            "text/plain": [
              "<matplotlib.axes._subplots.AxesSubplot at 0x7fc5b0158250>"
            ]
          },
          "metadata": {},
          "execution_count": 39
        },
        {
          "output_type": "display_data",
          "data": {
            "text/plain": [
              "<Figure size 432x288 with 1 Axes>"
            ],
            "image/png": "[encoded data removed]"
          },
          "metadata": {
            "needs_background": "light"
          }
        }
      ]
    },
    {
      "cell_type": "markdown",
      "metadata": {
        "id": "UEwhDIzzW0Ud"
      },
      "source": [
        "#### Evaluate on Test Data"
      ]
    },
    {
      "cell_type": "code",
      "metadata": {
        "id": "sEIphpveW0Ud"
      },
      "source": [
        "predictions_scaled = []\n",
        "\n",
        "first_eval_batch = train_scaled[-length:]\n",
        "current_batch = first_eval_batch.reshape((1, length, n_features))\n",
        "\n",
        "for i in range(length):\n",
        "    \n",
        "    # get prediction 1 time stamp ahead\n",
        "    current_pred = model.predict(current_batch)\n",
        "    \n",
        "    # store prediction\n",
        "    predictions_scaled.append(current_pred[0]) \n",
        "    \n",
        "    # update batch to now include prediction and drop first value\n",
        "    current_batch = np.append(current_batch[:, 1:, :], [current_pred], axis=1)"
      ],
      "execution_count": 40,
      "outputs": []
    },
    {
      "cell_type": "code",
      "source": [
        ""
      ],
      "metadata": {
        "id": "vqV7HaHp6l7W"
      },
      "execution_count": null,
      "outputs": []
    },
    {
      "cell_type": "code",
      "source": [
        ""
      ],
      "metadata": {
        "id": "iOfP3Leh6lzZ"
      },
      "execution_count": null,
      "outputs": []
    },
    {
      "cell_type": "markdown",
      "metadata": {
        "id": "P17_vbkUW0Ue"
      },
      "source": [
        "#### Inverse Transformations and Comparing"
      ]
    },
    {
      "cell_type": "code",
      "metadata": {
        "id": "v-M3v-GIW0Ue"
      },
      "source": [
        "predictions = scaler.inverse_transform(predictions_scaled)"
      ],
      "execution_count": null,
      "outputs": []
    },
    {
      "cell_type": "code",
      "source": [
        "compare['Predictions_relu'] = predictions\n",
        "compare"
      ],
      "metadata": {
        "colab": {
          "base_uri": "https://localhost:8080/",
          "height": 457
        },
        "id": "qVGNNTVC6p6t",
        "outputId": "271d9fb3-8d7f-47af-abd8-a05237e32e15"
      },
      "execution_count": 41,
      "outputs": [
        {
          "output_type": "execute_result",
          "data": {
            "text/plain": [
              "            Production  Predictions_tanh  Predictions_relu\n",
              "DATE                                                      \n",
              "2017-10-01      90.473            95.543            95.543\n",
              "2017-11-01      77.438            89.196            89.196\n",
              "2017-12-01      75.812            92.719            92.719\n",
              "2018-01-01      83.434           103.578           103.578\n",
              "2018-02-01      99.490           113.160           113.160\n",
              "2018-03-01     107.315           117.702           117.702\n",
              "2018-04-01     112.431           120.283           120.283\n",
              "2018-05-01     110.354           120.826           120.826\n",
              "2018-06-01     124.584           122.340           122.340\n",
              "2018-07-01     117.222           116.802           116.802\n",
              "2018-08-01     112.678           109.419           109.419\n",
              "2018-09-01     103.312            99.534            99.534"
            ],
            "text/html": [
              "\n",
              "  <div id=\"df-dddfb448-2721-4cd3-8d8b-1b024f0c0391\">\n",
              "    <div class=\"colab-df-container\">\n",
              "      <div>\n",
              "<style scoped>\n",
              "    .dataframe tbody tr th:only-of-type {\n",
              "        vertical-align: middle;\n",
              "    }\n",
              "\n",
              "    .dataframe tbody tr th {\n",
              "        vertical-align: top;\n",
              "    }\n",
              "\n",
              "    .dataframe thead th {\n",
              "        text-align: right;\n",
              "    }\n",
              "</style>\n",
              "<table border=\"1\" class=\"dataframe\">\n",
              "  <thead>\n",
              "    <tr style=\"text-align: right;\">\n",
              "      <th></th>\n",
              "      <th>Production</th>\n",
              "      <th>Predictions_tanh</th>\n",
              "      <th>Predictions_relu</th>\n",
              "    </tr>\n",
              "    <tr>\n",
              "      <th>DATE</th>\n",
              "      <th></th>\n",
              "      <th></th>\n",
              "      <th></th>\n",
              "    </tr>\n",
              "  </thead>\n",
              "  <tbody>\n",
              "    <tr>\n",
              "      <th>2017-10-01</th>\n",
              "      <td>90.473</td>\n",
              "      <td>95.543</td>\n",
              "      <td>95.543</td>\n",
              "    </tr>\n",
              "    <tr>\n",
              "      <th>2017-11-01</th>\n",
              "      <td>77.438</td>\n",
              "      <td>89.196</td>\n",
              "      <td>89.196</td>\n",
              "    </tr>\n",
              "    <tr>\n",
              "      <th>2017-12-01</th>\n",
              "      <td>75.812</td>\n",
              "      <td>92.719</td>\n",
              "      <td>92.719</td>\n",
              "    </tr>\n",
              "    <tr>\n",
              "      <th>2018-01-01</th>\n",
              "      <td>83.434</td>\n",
              "      <td>103.578</td>\n",
              "      <td>103.578</td>\n",
              "    </tr>\n",
              "    <tr>\n",
              "      <th>2018-02-01</th>\n",
              "      <td>99.490</td>\n",
              "      <td>113.160</td>\n",
              "      <td>113.160</td>\n",
              "    </tr>\n",
              "    <tr>\n",
              "      <th>2018-03-01</th>\n",
              "      <td>107.315</td>\n",
              "      <td>117.702</td>\n",
              "      <td>117.702</td>\n",
              "    </tr>\n",
              "    <tr>\n",
              "      <th>2018-04-01</th>\n",
              "      <td>112.431</td>\n",
              "      <td>120.283</td>\n",
              "      <td>120.283</td>\n",
              "    </tr>\n",
              "    <tr>\n",
              "      <th>2018-05-01</th>\n",
              "      <td>110.354</td>\n",
              "      <td>120.826</td>\n",
              "      <td>120.826</td>\n",
              "    </tr>\n",
              "    <tr>\n",
              "      <th>2018-06-01</th>\n",
              "      <td>124.584</td>\n",
              "      <td>122.340</td>\n",
              "      <td>122.340</td>\n",
              "    </tr>\n",
              "    <tr>\n",
              "      <th>2018-07-01</th>\n",
              "      <td>117.222</td>\n",
              "      <td>116.802</td>\n",
              "      <td>116.802</td>\n",
              "    </tr>\n",
              "    <tr>\n",
              "      <th>2018-08-01</th>\n",
              "      <td>112.678</td>\n",
              "      <td>109.419</td>\n",
              "      <td>109.419</td>\n",
              "    </tr>\n",
              "    <tr>\n",
              "      <th>2018-09-01</th>\n",
              "      <td>103.312</td>\n",
              "      <td>99.534</td>\n",
              "      <td>99.534</td>\n",
              "    </tr>\n",
              "  </tbody>\n",
              "</table>\n",
              "</div>\n",
              "      <button class=\"colab-df-convert\" onclick=\"convertToInteractive('df-dddfb448-2721-4cd3-8d8b-1b024f0c0391')\"\n",
              "              title=\"Convert this dataframe to an interactive table.\"\n",
              "              style=\"display:none;\">\n",
              "        \n",
              "  <svg xmlns=\"http://www.w3.org/2000/svg\" height=\"24px\"viewBox=\"0 0 24 24\"\n",
              "       width=\"24px\">\n",
              "    <path d=\"M0 0h24v24H0V0z\" fill=\"none\"/>\n",
              "    <path d=\"M18.56 5.44l.94 2.06.94-2.06 2.06-.94-2.06-.94-.94-2.06-.94 2.06-2.06.94zm-11 1L8.5 8.5l.94-2.06 2.06-.94-2.06-.94L8.5 2.5l-.94 2.06-2.06.94zm10 10l.94 2.06.94-2.06 2.06-.94-2.06-.94-.94-2.06-.94 2.06-2.06.94z\"/><path d=\"M17.41 7.96l-1.37-1.37c-.4-.4-.92-.59-1.43-.59-.52 0-1.04.2-1.43.59L10.3 9.45l-7.72 7.72c-.78.78-.78 2.05 0 2.83L4 21.41c.39.39.9.59 1.41.59.51 0 1.02-.2 1.41-.59l7.78-7.78 2.81-2.81c.8-.78.8-2.07 0-2.86zM5.41 20L4 18.59l7.72-7.72 1.47 1.35L5.41 20z\"/>\n",
              "  </svg>\n",
              "      </button>\n",
              "      \n",
              "  <style>\n",
              "    .colab-df-container {\n",
              "      display:flex;\n",
              "      flex-wrap:wrap;\n",
              "      gap: 12px;\n",
              "    }\n",
              "\n",
              "    .colab-df-convert {\n",
              "      background-color: #E8F0FE;\n",
              "      border: none;\n",
              "      border-radius: 50%;\n",
              "      cursor: pointer;\n",
              "      display: none;\n",
              "      fill: #1967D2;\n",
              "      height: 32px;\n",
              "      padding: 0 0 0 0;\n",
              "      width: 32px;\n",
              "    }\n",
              "\n",
              "    .colab-df-convert:hover {\n",
              "      background-color: #E2EBFA;\n",
              "      box-shadow: 0px 1px 2px rgba(60, 64, 67, 0.3), 0px 1px 3px 1px rgba(60, 64, 67, 0.15);\n",
              "      fill: #174EA6;\n",
              "    }\n",
              "\n",
              "    [theme=dark] .colab-df-convert {\n",
              "      background-color: #3B4455;\n",
              "      fill: #D2E3FC;\n",
              "    }\n",
              "\n",
              "    [theme=dark] .colab-df-convert:hover {\n",
              "      background-color: #434B5C;\n",
              "      box-shadow: 0px 1px 3px 1px rgba(0, 0, 0, 0.15);\n",
              "      filter: drop-shadow(0px 1px 2px rgba(0, 0, 0, 0.3));\n",
              "      fill: #FFFFFF;\n",
              "    }\n",
              "  </style>\n",
              "\n",
              "      <script>\n",
              "        const buttonEl =\n",
              "          document.querySelector('#df-dddfb448-2721-4cd3-8d8b-1b024f0c0391 button.colab-df-convert');\n",
              "        buttonEl.style.display =\n",
              "          google.colab.kernel.accessAllowed ? 'block' : 'none';\n",
              "\n",
              "        async function convertToInteractive(key) {\n",
              "          const element = document.querySelector('#df-dddfb448-2721-4cd3-8d8b-1b024f0c0391');\n",
              "          const dataTable =\n",
              "            await google.colab.kernel.invokeFunction('convertToInteractive',\n",
              "                                                     [key], {});\n",
              "          if (!dataTable) return;\n",
              "\n",
              "          const docLinkHtml = 'Like what you see? Visit the ' +\n",
              "            '<a target=\"_blank\" href=https://colab.research.google.com/notebooks/data_table.ipynb>data table notebook</a>'\n",
              "            + ' to learn more about interactive tables.';\n",
              "          element.innerHTML = '';\n",
              "          dataTable['output_type'] = 'display_data';\n",
              "          await google.colab.output.renderOutput(dataTable, element);\n",
              "          const docLink = document.createElement('div');\n",
              "          docLink.innerHTML = docLinkHtml;\n",
              "          element.appendChild(docLink);\n",
              "        }\n",
              "      </script>\n",
              "    </div>\n",
              "  </div>\n",
              "  "
            ]
          },
          "metadata": {},
          "execution_count": 41
        }
      ]
    },
    {
      "cell_type": "code",
      "source": [
        "compare.plot()"
      ],
      "metadata": {
        "colab": {
          "base_uri": "https://localhost:8080/",
          "height": 308
        },
        "id": "3sprlzgz6tgI",
        "outputId": "ddd752d8-53c2-4479-c0da-0795e4b94a4a"
      },
      "execution_count": 42,
      "outputs": [
        {
          "output_type": "execute_result",
          "data": {
            "text/plain": [
              "<matplotlib.axes._subplots.AxesSubplot at 0x7fc5b026eb10>"
            ]
          },
          "metadata": {},
          "execution_count": 42
        },
        {
          "output_type": "display_data",
          "data": {
            "text/plain": [
              "<Figure size 432x288 with 1 Axes>"
            ],
            "image/png": "[encoded data removed]"
          },
          "metadata": {
            "needs_background": "light"
          }
        }
      ]
    },
    {
      "cell_type": "markdown",
      "metadata": {
        "id": "y2YxA_sTW0Ue"
      },
      "source": [
        "#### Calculation R2 Score and Error Metrics"
      ]
    },
    {
      "cell_type": "code",
      "metadata": {
        "id": "biBzyA-dW0Uf",
        "colab": {
          "base_uri": "https://localhost:8080/"
        },
        "outputId": "21b879d7-8b48-4421-c4bc-d04632edf7ec"
      },
      "source": [
        "eval_metrics(compare.Production, compare.Predictions_relu)"
      ],
      "execution_count": 43,
      "outputs": [
        {
          "output_type": "stream",
          "name": "stdout",
          "text": [
            "r2_score: 0.5223264579609903 \n",
            "mae: 8.829966958618785 \n",
            "mse: 112.6453024242138 \n",
            "rmse: 10.613449129487256\n"
          ]
        }
      ]
    },
    {
      "cell_type": "markdown",
      "metadata": {
        "collapsed": true,
        "id": "d7iS01PhW0Uf"
      },
      "source": [
        "## Retrain and Forecasting\n",
        "\n",
        "Select activation function providing a better score, create your final model with full data, forecast for the next 12 months, and plot this forecast."
      ]
    },
    {
      "cell_type": "code",
      "metadata": {
        "id": "c5xKyE39W0Uf"
      },
      "source": [
        "full_scaler = MinMaxScaler()\n",
        "scaled_full_data = full_scaler.fit_transform(df)"
      ],
      "execution_count": 44,
      "outputs": []
    },
    {
      "cell_type": "code",
      "source": [
        "generator = TimeseriesGenerator(scaled_full_data, scaled_full_data, length = length, batch_size = batch_size)"
      ],
      "metadata": {
        "id": "b1npEABq6yc4"
      },
      "execution_count": 45,
      "outputs": []
    },
    {
      "cell_type": "code",
      "source": [
        "model = Sequential()\n",
        "\n",
        "model.add(LSTM(64, activation = 'relu', return_sequences=True, input_shape = (length, n_features)))\n",
        "model.add(LSTM(32, activation = 'relu', return_sequences=True))\n",
        "model.add(LSTM(16, activation = 'relu'))\n",
        "model.add(Dense(1))\n",
        "\n",
        "model.compile(optimizer = 'adam', loss = 'mse')\n",
        "\n",
        "model.fit_generator(generator, epochs=10)"
      ],
      "metadata": {
        "colab": {
          "base_uri": "https://localhost:8080/"
        },
        "id": "Rl52u14N6yTA",
        "outputId": "31d291d9-c237-42e8-939f-a1673c435422"
      },
      "execution_count": 46,
      "outputs": [
        {
          "output_type": "stream",
          "name": "stdout",
          "text": [
            "Epoch 1/10\n",
            "561/561 [==============================] - 14s 18ms/step - loss: 0.0309\n",
            "Epoch 2/10\n",
            "561/561 [==============================] - 10s 17ms/step - loss: 0.0105\n",
            "Epoch 3/10\n",
            "561/561 [==============================] - 10s 18ms/step - loss: 0.0078\n",
            "Epoch 4/10\n",
            "561/561 [==============================] - 12s 21ms/step - loss: 0.0077\n",
            "Epoch 5/10\n",
            "561/561 [==============================] - 8s 13ms/step - loss: 0.0067\n",
            "Epoch 6/10\n",
            "561/561 [==============================] - 7s 13ms/step - loss: 0.0064\n",
            "Epoch 7/10\n",
            "561/561 [==============================] - 7s 13ms/step - loss: 0.0065\n",
            "Epoch 8/10\n",
            "561/561 [==============================] - 7s 13ms/step - loss: 0.0063\n",
            "Epoch 9/10\n",
            "561/561 [==============================] - 7s 13ms/step - loss: 0.0064\n",
            "Epoch 10/10\n",
            "561/561 [==============================] - 7s 13ms/step - loss: 0.0065\n"
          ]
        },
        {
          "output_type": "execute_result",
          "data": {
            "text/plain": [
              "<keras.callbacks.History at 0x7fc5b22b9490>"
            ]
          },
          "metadata": {},
          "execution_count": 46
        }
      ]
    },
    {
      "cell_type": "code",
      "source": [
        "forecast = []\n",
        "\n",
        "first_eval_batch = scaled_full_data[-length:]\n",
        "current_batch = first_eval_batch.reshape((1, length, n_features))\n",
        "\n",
        "for i in range(length):\n",
        "    \n",
        "    # get prediction 1 time stamp ahead ([0] is for grabbing just the number instead of [array])\n",
        "    current_pred = model.predict(current_batch)\n",
        "    \n",
        "    # store prediction\n",
        "    forecast.append(current_pred[0]) \n",
        "    \n",
        "    # update batch to now include prediction and drop first value\n",
        "    current_batch = np.append(current_batch[:, 1:, :], [current_pred], axis = 1)"
      ],
      "metadata": {
        "id": "uK5gQ2LR63IM"
      },
      "execution_count": 47,
      "outputs": []
    },
    {
      "cell_type": "code",
      "source": [
        "forecast = scaler.inverse_transform(forecast)\n",
        "forecast"
      ],
      "metadata": {
        "colab": {
          "base_uri": "https://localhost:8080/"
        },
        "id": "PPaOpEZQ62_H",
        "outputId": "a50743a0-2981-4d72-d760-cfcf38446e06"
      },
      "execution_count": 48,
      "outputs": [
        {
          "output_type": "execute_result",
          "data": {
            "text/plain": [
              "array([[ 91.71760284],\n",
              "       [ 83.11118732],\n",
              "       [ 81.40867249],\n",
              "       [ 89.51478589],\n",
              "       [103.06293138],\n",
              "       [113.66868449],\n",
              "       [113.91543913],\n",
              "       [117.96362508],\n",
              "       [121.35039712],\n",
              "       [112.10037246],\n",
              "       [105.37680225],\n",
              "       [103.52307285]])"
            ]
          },
          "metadata": {},
          "execution_count": 48
        }
      ]
    },
    {
      "cell_type": "code",
      "source": [
        "df"
      ],
      "metadata": {
        "colab": {
          "base_uri": "https://localhost:8080/",
          "height": 455
        },
        "id": "f722mGwo66zc",
        "outputId": "a49585fc-eab5-4d06-a8b2-7100bd390411"
      },
      "execution_count": 49,
      "outputs": [
        {
          "output_type": "execute_result",
          "data": {
            "text/plain": [
              "            Production\n",
              "DATE                  \n",
              "1972-01-01      59.962\n",
              "1972-02-01      67.061\n",
              "1972-03-01      74.235\n",
              "1972-04-01      78.112\n",
              "1972-05-01      84.764\n",
              "...                ...\n",
              "2019-05-01     114.561\n",
              "2019-06-01     124.960\n",
              "2019-07-01     110.263\n",
              "2019-08-01     102.609\n",
              "2019-09-01     101.587\n",
              "\n",
              "[573 rows x 1 columns]"
            ],
            "text/html": [
              "\n",
              "  <div id=\"df-2aaddf58-4196-44c1-8ba8-74d317612430\">\n",
              "    <div class=\"colab-df-container\">\n",
              "      <div>\n",
              "<style scoped>\n",
              "    .dataframe tbody tr th:only-of-type {\n",
              "        vertical-align: middle;\n",
              "    }\n",
              "\n",
              "    .dataframe tbody tr th {\n",
              "        vertical-align: top;\n",
              "    }\n",
              "\n",
              "    .dataframe thead th {\n",
              "        text-align: right;\n",
              "    }\n",
              "</style>\n",
              "<table border=\"1\" class=\"dataframe\">\n",
              "  <thead>\n",
              "    <tr style=\"text-align: right;\">\n",
              "      <th></th>\n",
              "      <th>Production</th>\n",
              "    </tr>\n",
              "    <tr>\n",
              "      <th>DATE</th>\n",
              "      <th></th>\n",
              "    </tr>\n",
              "  </thead>\n",
              "  <tbody>\n",
              "    <tr>\n",
              "      <th>1972-01-01</th>\n",
              "      <td>59.962</td>\n",
              "    </tr>\n",
              "    <tr>\n",
              "      <th>1972-02-01</th>\n",
              "      <td>67.061</td>\n",
              "    </tr>\n",
              "    <tr>\n",
              "      <th>1972-03-01</th>\n",
              "      <td>74.235</td>\n",
              "    </tr>\n",
              "    <tr>\n",
              "      <th>1972-04-01</th>\n",
              "      <td>78.112</td>\n",
              "    </tr>\n",
              "    <tr>\n",
              "      <th>1972-05-01</th>\n",
              "      <td>84.764</td>\n",
              "    </tr>\n",
              "    <tr>\n",
              "      <th>...</th>\n",
              "      <td>...</td>\n",
              "    </tr>\n",
              "    <tr>\n",
              "      <th>2019-05-01</th>\n",
              "      <td>114.561</td>\n",
              "    </tr>\n",
              "    <tr>\n",
              "      <th>2019-06-01</th>\n",
              "      <td>124.960</td>\n",
              "    </tr>\n",
              "    <tr>\n",
              "      <th>2019-07-01</th>\n",
              "      <td>110.263</td>\n",
              "    </tr>\n",
              "    <tr>\n",
              "      <th>2019-08-01</th>\n",
              "      <td>102.609</td>\n",
              "    </tr>\n",
              "    <tr>\n",
              "      <th>2019-09-01</th>\n",
              "      <td>101.587</td>\n",
              "    </tr>\n",
              "  </tbody>\n",
              "</table>\n",
              "<p>573 rows × 1 columns</p>\n",
              "</div>\n",
              "      <button class=\"colab-df-convert\" onclick=\"convertToInteractive('df-2aaddf58-4196-44c1-8ba8-74d317612430')\"\n",
              "              title=\"Convert this dataframe to an interactive table.\"\n",
              "              style=\"display:none;\">\n",
              "        \n",
              "  <svg xmlns=\"http://www.w3.org/2000/svg\" height=\"24px\"viewBox=\"0 0 24 24\"\n",
              "       width=\"24px\">\n",
              "    <path d=\"M0 0h24v24H0V0z\" fill=\"none\"/>\n",
              "    <path d=\"M18.56 5.44l.94 2.06.94-2.06 2.06-.94-2.06-.94-.94-2.06-.94 2.06-2.06.94zm-11 1L8.5 8.5l.94-2.06 2.06-.94-2.06-.94L8.5 2.5l-.94 2.06-2.06.94zm10 10l.94 2.06.94-2.06 2.06-.94-2.06-.94-.94-2.06-.94 2.06-2.06.94z\"/><path d=\"M17.41 7.96l-1.37-1.37c-.4-.4-.92-.59-1.43-.59-.52 0-1.04.2-1.43.59L10.3 9.45l-7.72 7.72c-.78.78-.78 2.05 0 2.83L4 21.41c.39.39.9.59 1.41.59.51 0 1.02-.2 1.41-.59l7.78-7.78 2.81-2.81c.8-.78.8-2.07 0-2.86zM5.41 20L4 18.59l7.72-7.72 1.47 1.35L5.41 20z\"/>\n",
              "  </svg>\n",
              "      </button>\n",
              "      \n",
              "  <style>\n",
              "    .colab-df-container {\n",
              "      display:flex;\n",
              "      flex-wrap:wrap;\n",
              "      gap: 12px;\n",
              "    }\n",
              "\n",
              "    .colab-df-convert {\n",
              "      background-color: #E8F0FE;\n",
              "      border: none;\n",
              "      border-radius: 50%;\n",
              "      cursor: pointer;\n",
              "      display: none;\n",
              "      fill: #1967D2;\n",
              "      height: 32px;\n",
              "      padding: 0 0 0 0;\n",
              "      width: 32px;\n",
              "    }\n",
              "\n",
              "    .colab-df-convert:hover {\n",
              "      background-color: #E2EBFA;\n",
              "      box-shadow: 0px 1px 2px rgba(60, 64, 67, 0.3), 0px 1px 3px 1px rgba(60, 64, 67, 0.15);\n",
              "      fill: #174EA6;\n",
              "    }\n",
              "\n",
              "    [theme=dark] .colab-df-convert {\n",
              "      background-color: #3B4455;\n",
              "      fill: #D2E3FC;\n",
              "    }\n",
              "\n",
              "    [theme=dark] .colab-df-convert:hover {\n",
              "      background-color: #434B5C;\n",
              "      box-shadow: 0px 1px 3px 1px rgba(0, 0, 0, 0.15);\n",
              "      filter: drop-shadow(0px 1px 2px rgba(0, 0, 0, 0.3));\n",
              "      fill: #FFFFFF;\n",
              "    }\n",
              "  </style>\n",
              "\n",
              "      <script>\n",
              "        const buttonEl =\n",
              "          document.querySelector('#df-2aaddf58-4196-44c1-8ba8-74d317612430 button.colab-df-convert');\n",
              "        buttonEl.style.display =\n",
              "          google.colab.kernel.accessAllowed ? 'block' : 'none';\n",
              "\n",
              "        async function convertToInteractive(key) {\n",
              "          const element = document.querySelector('#df-2aaddf58-4196-44c1-8ba8-74d317612430');\n",
              "          const dataTable =\n",
              "            await google.colab.kernel.invokeFunction('convertToInteractive',\n",
              "                                                     [key], {});\n",
              "          if (!dataTable) return;\n",
              "\n",
              "          const docLinkHtml = 'Like what you see? Visit the ' +\n",
              "            '<a target=\"_blank\" href=https://colab.research.google.com/notebooks/data_table.ipynb>data table notebook</a>'\n",
              "            + ' to learn more about interactive tables.';\n",
              "          element.innerHTML = '';\n",
              "          dataTable['output_type'] = 'display_data';\n",
              "          await google.colab.output.renderOutput(dataTable, element);\n",
              "          const docLink = document.createElement('div');\n",
              "          docLink.innerHTML = docLinkHtml;\n",
              "          element.appendChild(docLink);\n",
              "        }\n",
              "      </script>\n",
              "    </div>\n",
              "  </div>\n",
              "  "
            ]
          },
          "metadata": {},
          "execution_count": 49
        }
      ]
    },
    {
      "cell_type": "code",
      "source": [
        "forecast_index = pd.date_range(start = '2019-10-01', periods = length, freq = 'MS')\n",
        "forecast_index"
      ],
      "metadata": {
        "colab": {
          "base_uri": "https://localhost:8080/"
        },
        "id": "b2MVT_ch69Sp",
        "outputId": "bb4b3348-f064-4e78-b91a-e6e4e39e0a88"
      },
      "execution_count": 50,
      "outputs": [
        {
          "output_type": "execute_result",
          "data": {
            "text/plain": [
              "DatetimeIndex(['2019-10-01', '2019-11-01', '2019-12-01', '2020-01-01',\n",
              "               '2020-02-01', '2020-03-01', '2020-04-01', '2020-05-01',\n",
              "               '2020-06-01', '2020-07-01', '2020-08-01', '2020-09-01'],\n",
              "              dtype='datetime64[ns]', freq='MS')"
            ]
          },
          "metadata": {},
          "execution_count": 50
        }
      ]
    },
    {
      "cell_type": "code",
      "source": [
        "forecast_df = pd.DataFrame(data = forecast, index = forecast_index, columns = ['Forecast'])\n",
        "forecast_df"
      ],
      "metadata": {
        "colab": {
          "base_uri": "https://localhost:8080/",
          "height": 426
        },
        "id": "awAaUAF16--n",
        "outputId": "ae1b0855-907d-4f92-8d40-874686da9ccb"
      },
      "execution_count": 51,
      "outputs": [
        {
          "output_type": "execute_result",
          "data": {
            "text/plain": [
              "            Forecast\n",
              "2019-10-01    91.718\n",
              "2019-11-01    83.111\n",
              "2019-12-01    81.409\n",
              "2020-01-01    89.515\n",
              "2020-02-01   103.063\n",
              "2020-03-01   113.669\n",
              "2020-04-01   113.915\n",
              "2020-05-01   117.964\n",
              "2020-06-01   121.350\n",
              "2020-07-01   112.100\n",
              "2020-08-01   105.377\n",
              "2020-09-01   103.523"
            ],
            "text/html": [
              "\n",
              "  <div id=\"df-2a48f6cc-b414-4673-9574-74954d7a12ca\">\n",
              "    <div class=\"colab-df-container\">\n",
              "      <div>\n",
              "<style scoped>\n",
              "    .dataframe tbody tr th:only-of-type {\n",
              "        vertical-align: middle;\n",
              "    }\n",
              "\n",
              "    .dataframe tbody tr th {\n",
              "        vertical-align: top;\n",
              "    }\n",
              "\n",
              "    .dataframe thead th {\n",
              "        text-align: right;\n",
              "    }\n",
              "</style>\n",
              "<table border=\"1\" class=\"dataframe\">\n",
              "  <thead>\n",
              "    <tr style=\"text-align: right;\">\n",
              "      <th></th>\n",
              "      <th>Forecast</th>\n",
              "    </tr>\n",
              "  </thead>\n",
              "  <tbody>\n",
              "    <tr>\n",
              "      <th>2019-10-01</th>\n",
              "      <td>91.718</td>\n",
              "    </tr>\n",
              "    <tr>\n",
              "      <th>2019-11-01</th>\n",
              "      <td>83.111</td>\n",
              "    </tr>\n",
              "    <tr>\n",
              "      <th>2019-12-01</th>\n",
              "      <td>81.409</td>\n",
              "    </tr>\n",
              "    <tr>\n",
              "      <th>2020-01-01</th>\n",
              "      <td>89.515</td>\n",
              "    </tr>\n",
              "    <tr>\n",
              "      <th>2020-02-01</th>\n",
              "      <td>103.063</td>\n",
              "    </tr>\n",
              "    <tr>\n",
              "      <th>2020-03-01</th>\n",
              "      <td>113.669</td>\n",
              "    </tr>\n",
              "    <tr>\n",
              "      <th>2020-04-01</th>\n",
              "      <td>113.915</td>\n",
              "    </tr>\n",
              "    <tr>\n",
              "      <th>2020-05-01</th>\n",
              "      <td>117.964</td>\n",
              "    </tr>\n",
              "    <tr>\n",
              "      <th>2020-06-01</th>\n",
              "      <td>121.350</td>\n",
              "    </tr>\n",
              "    <tr>\n",
              "      <th>2020-07-01</th>\n",
              "      <td>112.100</td>\n",
              "    </tr>\n",
              "    <tr>\n",
              "      <th>2020-08-01</th>\n",
              "      <td>105.377</td>\n",
              "    </tr>\n",
              "    <tr>\n",
              "      <th>2020-09-01</th>\n",
              "      <td>103.523</td>\n",
              "    </tr>\n",
              "  </tbody>\n",
              "</table>\n",
              "</div>\n",
              "      <button class=\"colab-df-convert\" onclick=\"convertToInteractive('df-2a48f6cc-b414-4673-9574-74954d7a12ca')\"\n",
              "              title=\"Convert this dataframe to an interactive table.\"\n",
              "              style=\"display:none;\">\n",
              "        \n",
              "  <svg xmlns=\"http://www.w3.org/2000/svg\" height=\"24px\"viewBox=\"0 0 24 24\"\n",
              "       width=\"24px\">\n",
              "    <path d=\"M0 0h24v24H0V0z\" fill=\"none\"/>\n",
              "    <path d=\"M18.56 5.44l.94 2.06.94-2.06 2.06-.94-2.06-.94-.94-2.06-.94 2.06-2.06.94zm-11 1L8.5 8.5l.94-2.06 2.06-.94-2.06-.94L8.5 2.5l-.94 2.06-2.06.94zm10 10l.94 2.06.94-2.06 2.06-.94-2.06-.94-.94-2.06-.94 2.06-2.06.94z\"/><path d=\"M17.41 7.96l-1.37-1.37c-.4-.4-.92-.59-1.43-.59-.52 0-1.04.2-1.43.59L10.3 9.45l-7.72 7.72c-.78.78-.78 2.05 0 2.83L4 21.41c.39.39.9.59 1.41.59.51 0 1.02-.2 1.41-.59l7.78-7.78 2.81-2.81c.8-.78.8-2.07 0-2.86zM5.41 20L4 18.59l7.72-7.72 1.47 1.35L5.41 20z\"/>\n",
              "  </svg>\n",
              "      </button>\n",
              "      \n",
              "  <style>\n",
              "    .colab-df-container {\n",
              "      display:flex;\n",
              "      flex-wrap:wrap;\n",
              "      gap: 12px;\n",
              "    }\n",
              "\n",
              "    .colab-df-convert {\n",
              "      background-color: #E8F0FE;\n",
              "      border: none;\n",
              "      border-radius: 50%;\n",
              "      cursor: pointer;\n",
              "      display: none;\n",
              "      fill: #1967D2;\n",
              "      height: 32px;\n",
              "      padding: 0 0 0 0;\n",
              "      width: 32px;\n",
              "    }\n",
              "\n",
              "    .colab-df-convert:hover {\n",
              "      background-color: #E2EBFA;\n",
              "      box-shadow: 0px 1px 2px rgba(60, 64, 67, 0.3), 0px 1px 3px 1px rgba(60, 64, 67, 0.15);\n",
              "      fill: #174EA6;\n",
              "    }\n",
              "\n",
              "    [theme=dark] .colab-df-convert {\n",
              "      background-color: #3B4455;\n",
              "      fill: #D2E3FC;\n",
              "    }\n",
              "\n",
              "    [theme=dark] .colab-df-convert:hover {\n",
              "      background-color: #434B5C;\n",
              "      box-shadow: 0px 1px 3px 1px rgba(0, 0, 0, 0.15);\n",
              "      filter: drop-shadow(0px 1px 2px rgba(0, 0, 0, 0.3));\n",
              "      fill: #FFFFFF;\n",
              "    }\n",
              "  </style>\n",
              "\n",
              "      <script>\n",
              "        const buttonEl =\n",
              "          document.querySelector('#df-2a48f6cc-b414-4673-9574-74954d7a12ca button.colab-df-convert');\n",
              "        buttonEl.style.display =\n",
              "          google.colab.kernel.accessAllowed ? 'block' : 'none';\n",
              "\n",
              "        async function convertToInteractive(key) {\n",
              "          const element = document.querySelector('#df-2a48f6cc-b414-4673-9574-74954d7a12ca');\n",
              "          const dataTable =\n",
              "            await google.colab.kernel.invokeFunction('convertToInteractive',\n",
              "                                                     [key], {});\n",
              "          if (!dataTable) return;\n",
              "\n",
              "          const docLinkHtml = 'Like what you see? Visit the ' +\n",
              "            '<a target=\"_blank\" href=https://colab.research.google.com/notebooks/data_table.ipynb>data table notebook</a>'\n",
              "            + ' to learn more about interactive tables.';\n",
              "          element.innerHTML = '';\n",
              "          dataTable['output_type'] = 'display_data';\n",
              "          await google.colab.output.renderOutput(dataTable, element);\n",
              "          const docLink = document.createElement('div');\n",
              "          docLink.innerHTML = docLinkHtml;\n",
              "          element.appendChild(docLink);\n",
              "        }\n",
              "      </script>\n",
              "    </div>\n",
              "  </div>\n",
              "  "
            ]
          },
          "metadata": {},
          "execution_count": 51
        }
      ]
    },
    {
      "cell_type": "code",
      "source": [
        "ax = df.plot()\n",
        "forecast_df.plot(ax = ax, figsize = (16, 8));"
      ],
      "metadata": {
        "colab": {
          "base_uri": "https://localhost:8080/",
          "height": 497
        },
        "id": "YxiHjLpG7A_e",
        "outputId": "5af16279-2440-4cd2-9a87-ad08226d5b81"
      },
      "execution_count": 52,
      "outputs": [
        {
          "output_type": "display_data",
          "data": {
            "text/plain": [
              "<Figure size 1152x576 with 1 Axes>"
            ],
            "image/png": "[encoded data removed]"
          },
          "metadata": {
            "needs_background": "light"
          }
        }
      ]
    },
    {
      "cell_type": "code",
      "source": [
        "ax = df.plot()\n",
        "forecast_df.plot(ax = ax, figsize = (16, 8))\n",
        "plt.xlim('2018-01-01', '2021-09-01')"
      ],
      "metadata": {
        "colab": {
          "base_uri": "https://localhost:8080/",
          "height": 526
        },
        "id": "LfhuhbgT7Cqx",
        "outputId": "edf240dc-eaab-4358-fca6-bde9bd8d7b64"
      },
      "execution_count": 53,
      "outputs": [
        {
          "output_type": "execute_result",
          "data": {
            "text/plain": [
              "(576.0, 620.0)"
            ]
          },
          "metadata": {},
          "execution_count": 53
        },
        {
          "output_type": "display_data",
          "data": {
            "text/plain": [
              "<Figure size 1152x576 with 1 Axes>"
            ],
            "image/png": "[encoded data removed]"
          },
          "metadata": {
            "needs_background": "light"
          }
        }
      ]
    },
    {
      "cell_type": "code",
      "source": [
        ""
      ],
      "metadata": {
        "id": "6q2fUsqM7Em1"
      },
      "execution_count": null,
      "outputs": []
    }
  ]
}